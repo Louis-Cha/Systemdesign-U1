{
 "cells": [
  {
   "cell_type": "markdown",
   "metadata": {},
   "source": [
    "# 8.5. Single-Objective Optimisation (SODO): Bridge Design Problem"
   ]
  },
  {
   "cell_type": "markdown",
   "metadata": {},
   "source": [
    "```{note}\n",
    "Press the rocket symbol on the top right of the page to make the page interactive and play with the code! \n",
    "```"
   ]
  },
  {
   "cell_type": "markdown",
   "metadata": {},
   "source": [
    "In some cases, engineering design problems are simplified to a single-objective optimisation (SODO). This means that all weights are set to zero except for one objective, effectively focusing the analysis on just one stakeholder’s interest. While such simplifications can be useful as a first step, they should be understood as special cases of multi-objective optimisation (MODO)."
   ]
  },
  {
   "cell_type": "markdown",
   "metadata": {},
   "source": [
    "## Problem statement \n",
    "\n",
    "To illustrate, consider a bridge design where we limit the design problem to the determination of\n",
    "the optimal span and the clearance height of the bridge. Assume that there are two\n",
    "decision makers (stakeholders) that have conflicting interests: \n",
    "1) **The municipality**, interested in the costs of the bridge. \n",
    "2) **The waterway users**, interested in the\n",
    "waiting time when the bridge is closed for waterway users. \n",
    "\n",
    "\n",
    "**Step 1: Specify the design variables**\n",
    "\n",
    "For this problem we have two controllable design variables:\n",
    "1) $x_1$: the bridge span, and\n",
    "2) $x_2$: the clearance height of the bridge. \n",
    "\n",
    "**Step 2: Retrieve decision maker's objectives**\n",
    "\n",
    "The municipality wants the cost to be minimised which becomes the first objective function $O_1$, whereas the waterway users want the waiting time to be minimised which becomes the second objective function $O_2$.\n",
    "\n",
    "**Step 3: Determine the preference functions for each objective**\n",
    "\n",
    "The costs are a function of the material use which in turn is a function of both the span and clearance height. We assume a linear relationship between costs $O_1$ and material use $F_1$ defined by coefficient $c_1 = 3$.\n",
    "\n",
    "$$O_1 = c_1 F_1$$\n",
    "\n",
    "We also assume a linear relationship between material use and both span and clearance height defined by coefficients $c_2 = 4$ and $c_3 = 7$ respectively.\n",
    "\n",
    "$$F_1 = c_2 x_1 + c_3 x_2$$\n",
    "\n",
    "The first objective to be minimised then becomes:\n",
    "\n",
    "$$O_1 = c_1 F_1 = c_1 c_2 x_1 + c_1 c_3 x_2$$\n",
    "\n",
    "The waiting time is a function of the traffic flow which in turn is a function of both the span and clearance height. We again assume a linear relationship between waiting time $O_2$ and traffic flow $F_2$, and reads as:\n",
    "\n",
    "$$O_2 = −c_4 F_2 + w_0; F_2 = c_5 x_1 + c_6 x_2$$\n",
    "\n",
    "where $w_0 > 0$. \n",
    "\n",
    "We also assume: \n",
    "(a) the coefficient $c_4 = 1.2$;\n",
    "(b) a maximal waiting time of $w_0 = 100$ (for a traffic flow that is ’nearly’ zero); \n",
    "(c) a linear relationship between traffic flow and both span and clearance height defined by coefficients $c_5 = 1.7$ and $c_6 = 1.9$ respectively. \n",
    "\n",
    "The second objective to be minimised then becomes:\n",
    "\n",
    "$$O_2 = −c_4 F_2 + w_0 = −c_4 c_5 x_1 − c_4 c_6 x_2 + w_0$$\n",
    "\n",
    "**Step 4: To each objective assign decision maker's weights**\n",
    "\n",
    "For this problem the weights are assumed to be equal, i.e. $w_1 = w_2 = 0.5$.\n",
    "\n",
    "\n",
    "**Step 5: Determine the design constraints**\n",
    "\n",
    "The constraints relate to the minimum and maximum span and the minimum and\n",
    "and maximum clearance height:\n",
    "\n",
    "$$1 ≤ x_1 ≤ 5; 3 ≤ x_2 ≤ 8$$\n",
    "\n",
    "\n",
    "**Step 6: Find the optimal design having the highest preference score**\n",
    "\n",
    "The graphical representation of this problem and both optimal solutions are shown in the figure below. Optimisation is carried out using MILP and Scipy Minimize. \n",
    "The design points are $(x1, x2) = (1, 3)$ and $(5, 8)$ for costs and waiting time respectively. \n",
    "\n",
    "Therefor the\n",
    "- costs are minimised at $(x1, x2) = (1, 3)$, and\n",
    "- waiting time is minimised at $(x1, x2) = (5, 8)$.\n",
    "\n",
    "<div style=\"text-align: center;\">\n",
    "  <img src=\"./images/bridge_results.png\" alt=\"Chapter 11\" width=\"70%\">\n",
    "  <p>Graphical representation of the bridge design problem.</p>\n",
    "</div>\n",
    "\n",
    "The graphical results show that SODO produces different optima depending on the selected objective."
   ]
  },
  {
   "cell_type": "markdown",
   "metadata": {},
   "source": [
    "## Python code for bridge design problem\n",
    "\n",
    "Type of algorithm used for single objective optimisation: Scipy minimize and MILP \\\n",
    "Type of algorithm used for multi objective optimisation: Genetic Algorithm (tetra) \\\n",
    "Number of design variables: 2 \\\n",
    "Number of objective functions: 2 \\\n",
    "Bounds: yes \\\n",
    "Constraints: no \\\n",
    "Type of problem: linear "
   ]
  },
  {
   "cell_type": "code",
   "execution_count": 3,
   "metadata": {},
   "outputs": [
    {
     "ename": "ModuleNotFoundError",
     "evalue": "No module named 'micropip'",
     "output_type": "error",
     "traceback": [
      "\u001b[31m---------------------------------------------------------------------------\u001b[39m",
      "\u001b[31mModuleNotFoundError\u001b[39m                       Traceback (most recent call last)",
      "\u001b[36mCell\u001b[39m\u001b[36m \u001b[39m\u001b[32mIn[3]\u001b[39m\u001b[32m, line 1\u001b[39m\n\u001b[32m----> \u001b[39m\u001b[32m1\u001b[39m \u001b[38;5;28;01mimport\u001b[39;00m\u001b[38;5;250m \u001b[39m\u001b[34;01mmicropip\u001b[39;00m\n\u001b[32m      2\u001b[39m \u001b[38;5;28;01mawait\u001b[39;00m micropip.install(\u001b[33m\"\u001b[39m\u001b[33murllib3 \u001b[39m\u001b[33m\"\u001b[39m)\n\u001b[32m      3\u001b[39m \u001b[38;5;28;01mawait\u001b[39;00m micropip.install(\u001b[33m\"\u001b[39m\u001b[33mrequests\u001b[39m\u001b[33m\"\u001b[39m)\n",
      "\u001b[31mModuleNotFoundError\u001b[39m: No module named 'micropip'"
     ]
    }
   ],
   "source": [
    "import micropip\n",
    "await micropip.install(\"urllib3 \")\n",
    "await micropip.install(\"requests\")\n",
    "\n",
    "import numpy as np\n",
    "import pandas as pd\n",
    "from scipy.optimize import minimize, LinearConstraint, milp\n",
    "import matplotlib.pyplot as plt\n",
    "from matplotlib.patches import Polygon\n",
    "\n",
    "from genetic_algorithm_pfm.a_fine_aggregator_main import a_fine_aggregator\n",
    "\n",
    "%matplotlib inline\n",
    "plt.rcParams['figure.dpi'] = 400\n",
    "plt.rcParams.update({'font.size': 14})"
   ]
  },
  {
   "cell_type": "markdown",
   "metadata": {},
   "source": [
    "### MILP and Minimise\n",
    "\n",
    "Scipy has two algorithms that can easily be used for optimisation: MILP and Minimize. The former is especially useful for mixed-integer problems: problems where one or more of the variables is an integer variable. The latter is, however, more straightforward in its use.\n",
    "\n",
    "To show their applicability, the same problem is worked out with both methods in this notebook."
   ]
  },
  {
   "cell_type": "code",
   "execution_count": 4,
   "metadata": {},
   "outputs": [],
   "source": [
    "# define constants\n",
    "c1 = 3   # costs per material\n",
    "c2 = 4   # material used per metre bridge span\n",
    "c3 = 7   # material used per metre air draft\n",
    "c4 = 1.2   # relation between waiting time and traffic flow\n",
    "c5 = 1.7   # traffic flow per metre bridge span\n",
    "c6 = 1.9   # traffic flow per metre air draft\n",
    "\n",
    "WT0 = 100   # minimal waiting time"
   ]
  },
  {
   "cell_type": "markdown",
   "metadata": {},
   "source": [
    "#### MILP"
   ]
  },
  {
   "cell_type": "code",
   "execution_count": 5,
   "metadata": {},
   "outputs": [
    {
     "name": "stdout",
     "output_type": "stream",
     "text": [
      "Results MILP\n",
      "Objective 1 is minimal for x1 = 1.0 and x2 = 3.0. The costs are then 75.0.\n",
      "Objective 2 is minimal for x1 = 5.0 and x2 = 8.0. The wait time is then 71.56.\n"
     ]
    }
   ],
   "source": [
    "# first, define the objective function. Since it is linear, we can just provide the coefficients with which x1 and x2\n",
    "# are multiplied. Note the -1: we need to maximize, however, milp is a minimization algorithm!\n",
    "c_costs = 1 * np.array([c1 * c2, c1 * c3])\n",
    "c_wait_time = -1 * np.array([c4 * c5, c4 * c6])\n",
    "\n",
    "# next, define the constraints. For this we first provide a matrix A with all the coefficients x1 and x2 are multiplied.\n",
    "A = np.array([[1, 0], [0, 1]])\n",
    "\n",
    "# next we determine the upper bounds as vectors\n",
    "b_u = np.array([5, 8])\n",
    "\n",
    "# finally, we need to define the lower bound. In our case, these are taken as 0\n",
    "b_l = np.array([1, 3])\n",
    "\n",
    "# we can now define the LinearConstraint\n",
    "constraints = LinearConstraint(A, b_l, b_u)\n",
    "\n",
    "# the integrality array will tell the algorithm what type of variables (0 = continuous; 1 = integer) there are\n",
    "integrality = np.zeros_like(c_costs)\n",
    "\n",
    "# Run the optimization\n",
    "result1 = milp(c=c_costs, constraints=constraints, integrality=integrality)\n",
    "result2 = milp(c=c_wait_time, constraints=constraints, integrality=integrality)\n",
    "\n",
    "print('Results MILP')\n",
    "print(f'Objective 1 is minimal for x1 = {result1.x[0]} and x2 = {result1.x[1]}. The costs are then {result1.fun}.')\n",
    "print(f'Objective 2 is minimal for x1 = {result2.x[0]} and x2 = {result2.x[1]}. '\n",
    "      f'The wait time is then {result2.fun + WT0}.')"
   ]
  },
  {
   "cell_type": "markdown",
   "metadata": {},
   "source": [
    "#### Minimize"
   ]
  },
  {
   "cell_type": "code",
   "execution_count": 6,
   "metadata": {},
   "outputs": [
    {
     "name": "stdout",
     "output_type": "stream",
     "text": [
      "Results Minimize\n",
      "Objective 1 is minimal for x1 = 1.0 and x2 = 3.0. The costs are then 75.0.\n",
      "Objective 2 is minimal for x1 = 5.0 and x2 = 8.0. The wait time is then 71.56.\n",
      "\n"
     ]
    }
   ],
   "source": [
    "# define objectives\n",
    "def objective_costs(x):\n",
    "    x1, x2 = x\n",
    "\n",
    "    F1 = c2 * x1 + c3 * x2\n",
    "\n",
    "    return c1 * F1\n",
    "\n",
    "\n",
    "def objective_wait_time(x):\n",
    "    x1, x2 = x\n",
    "\n",
    "    F2 = c5 * x1 + c6 * x2\n",
    "\n",
    "    return -1 * c4 * F2 + WT0\n",
    "\n",
    "\n",
    "# define bounds for two variables\n",
    "bounds = ((1, 5), (3, 8))\n",
    "\n",
    "# initiate optimization\n",
    "result1 = minimize(objective_costs, x0=np.array([1, 1]), bounds=bounds)\n",
    "result2 = minimize(objective_wait_time, x0=np.array([1, 1]), bounds=bounds)\n",
    "\n",
    "optimal_result_O1 = result1.fun\n",
    "optimal_result_O2 = result2.fun\n",
    "\n",
    "# print results\n",
    "print('Results Minimize')\n",
    "print(f'Objective 1 is minimal for x1 = {result1.x[0]} and x2 = {result1.x[1]}. The costs are then {result1.fun}.')\n",
    "print(f'Objective 2 is minimal for x1 = {result2.x[0]} and x2 = {result2.x[1]}. The wait time is then {result2.fun}.')\n",
    "print()"
   ]
  },
  {
   "cell_type": "code",
   "execution_count": null,
   "metadata": {},
   "outputs": [],
   "source": []
  },
  {
   "cell_type": "markdown",
   "metadata": {},
   "source": [
    "#### Plot the results\n",
    "\n",
    "After optimising using the minimise algorithm the solution space and the objective function are plotted."
   ]
  },
  {
   "cell_type": "code",
   "execution_count": 7,
   "metadata": {},
   "outputs": [
    {
     "data": {
      "image/png": "[encoded data removed]",
      "text/plain": [
       "<Figure size 800x600 with 1 Axes>"
      ]
     },
     "metadata": {},
     "output_type": "display_data"
    }
   ],
   "source": [
    "# plot graphical solution\n",
    "fig, ax = plt.subplots(figsize=(8, 6))\n",
    "\n",
    "# Draw constraint lines\n",
    "ax.vlines(3, -1, 7)\n",
    "ax.vlines(8, -1, 7)\n",
    "ax.hlines(1, 1, 10)\n",
    "ax.hlines(5, 1, 10)\n",
    "\n",
    "# Draw the feasible region\n",
    "feasible_set = Polygon(np.array([[3, 1],\n",
    "                                 [8, 1],\n",
    "                                 [8, 5],\n",
    "                                 [3, 5]]),\n",
    "                       color=\"lightgrey\")\n",
    "ax.add_patch(feasible_set)\n",
    "\n",
    "ax.set_xlabel('X2')\n",
    "ax.set_ylabel('X1')\n",
    "\n",
    "# Draw the objective function\n",
    "x2 = np.linspace(1, 6)\n",
    "ax.plot(x2, (optimal_result_O1 - c1 * c3 * x2) / (c1 * c2), color=\"purple\", label='Costs')\n",
    "x2 = np.linspace(6, 10)\n",
    "ax.plot(x2, (WT0 - c4 * c6 * x2 - optimal_result_O2) / (c4 * c5), color=\"orange\", label='Wait time')\n",
    "\n",
    "ax.scatter([3,3,8,8], [1,5,1,5], marker='*', color='red', label='corner points', s=150)\n",
    "\n",
    "ax.legend()\n",
    "ax.grid();\n"
   ]
  },
  {
   "cell_type": "code",
   "execution_count": null,
   "metadata": {},
   "outputs": [],
   "source": []
  }
 ],
 "metadata": {
  "kernelspec": {
   "display_name": "mude-base",
   "language": "python",
   "name": "python3"
  },
  "language_info": {
   "codemirror_mode": {
    "name": "ipython",
    "version": 3
   },
   "file_extension": ".py",
   "mimetype": "text/x-python",
   "name": "python",
   "nbconvert_exporter": "python",
   "pygments_lexer": "ipython3",
   "version": "3.12.11"
  }
 },
 "nbformat": 4,
 "nbformat_minor": 2
}
